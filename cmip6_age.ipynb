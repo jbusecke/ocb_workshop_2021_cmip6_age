{
 "cells": [
  {
   "cell_type": "markdown",
   "id": "perceived-victor",
   "metadata": {},
   "source": [
    "# OCB Workshop 2021 - Age tracers in select CMIP6 models"
   ]
  },
  {
   "cell_type": "code",
   "execution_count": 5,
   "id": "cordless-specialist",
   "metadata": {},
   "outputs": [],
   "source": [
    "import cartopy.crs as ccrs\n",
    "import xarray as xr\n",
    "import numpy as np\n",
    "import matplotlib.pyplot as plt\n",
    "plt.rcParams['figure.figsize'] = 12, 6\n",
    "%config InlineBackend.figure_format = 'retina'\n",
    "xr.set_options(cmap_sequential='cividis', display_style='html', keep_attrs=True)\n",
    "import cmocean.cm as cmo\n",
    "from dask.diagnostics import ProgressBar\n",
    "from cmip6_preprocessing.utils import google_cmip_col\n",
    "from cmip6_preprocessing.preprocessing import combined_preprocessing\n",
    "%matplotlib inline"
   ]
  },
  {
   "cell_type": "code",
   "execution_count": 2,
   "id": "heavy-affairs",
   "metadata": {},
   "outputs": [
    {
     "name": "stdout",
     "output_type": "stream",
     "text": [
      "\n",
      "--> The keys in the returned dictionary of datasets are constructed as follows:\n",
      "\t'activity_id.institution_id.source_id.experiment_id.member_id.table_id.variable_id.grid_label.zstore.dcpp_init_year.version'\n"
     ]
    },
    {
     "data": {
      "text/html": [
       "\n",
       "    <div>\n",
       "        <style>\n",
       "            /* Turns off some styling */\n",
       "            progress {\n",
       "                /* gets rid of default border in Firefox and Opera. */\n",
       "                border: none;\n",
       "                /* Needs to be in here for Safari polyfill so background images work as expected. */\n",
       "                background-size: auto;\n",
       "            }\n",
       "            .progress-bar-interrupted, .progress-bar-interrupted::-webkit-progress-bar {\n",
       "                background: #F44336;\n",
       "            }\n",
       "        </style>\n",
       "      <progress value='81' class='' max='81' style='width:300px; height:20px; vertical-align: middle;'></progress>\n",
       "      100.00% [81/81 00:21<00:00]\n",
       "    </div>\n",
       "    "
      ],
      "text/plain": [
       "<IPython.core.display.HTML object>"
      ]
     },
     "metadata": {},
     "output_type": "display_data"
    },
    {
     "name": "stderr",
     "output_type": "stream",
     "text": [
      "/srv/conda/envs/ocb_workshop_2021_cmip6_age/lib/python3.9/site-packages/cmip6_preprocessing/preprocessing.py:211: UserWarning: MIROC-ES2L: No units found for lev\n",
      "  warnings.warn(f'{ds.attrs[\"source_id\"]}: No units found for {co}')\n",
      "/srv/conda/envs/ocb_workshop_2021_cmip6_age/lib/python3.9/site-packages/cmip6_preprocessing/preprocessing.py:211: UserWarning: MIROC-ES2L: No units found for lev\n",
      "  warnings.warn(f'{ds.attrs[\"source_id\"]}: No units found for {co}')\n",
      "/srv/conda/envs/ocb_workshop_2021_cmip6_age/lib/python3.9/site-packages/cmip6_preprocessing/preprocessing.py:211: UserWarning: MIROC-ES2L: No units found for lev\n",
      "  warnings.warn(f'{ds.attrs[\"source_id\"]}: No units found for {co}')\n"
     ]
    }
   ],
   "source": [
    "col = google_cmip_col()\n",
    "cat = col.search(\n",
    "    experiment_id='historical',\n",
    "    variable_id='agessc',\n",
    "    grid_label='gn',\n",
    "    table_id='Omon',\n",
    "    source_id = ['CanESM5', 'CESM2', 'IPSL-CM6A-LR', 'MIROC-ES2L'],\n",
    ")\n",
    "ddict = cat.to_dataset_dict(\n",
    "    zarr_kwargs={'consolidated':True, 'use_cftime':True},\n",
    "    preprocess=combined_preprocessing,\n",
    "    aggregate=False,\n",
    ")"
   ]
  },
  {
   "cell_type": "code",
   "execution_count": 3,
   "id": "handed-orange",
   "metadata": {},
   "outputs": [],
   "source": [
    "from cmip6_preprocessing.postprocessing import combine_datasets \n",
    "\n",
    "def pick_first_member(ds_list, **kwargs):\n",
    "    return ds_list[0]\n",
    "\n",
    "ddict_new = combine_datasets(ddict, pick_first_member, match_attrs=['source_id', 'grid_label', 'experiment_id', 'table_id'])"
   ]
  },
  {
   "cell_type": "code",
   "execution_count": null,
   "id": "fluid-benchmark",
   "metadata": {},
   "outputs": [
    {
     "name": "stdout",
     "output_type": "stream",
     "text": [
      "CanESM5.gn.historical.Omon\n",
      "[########################################] | 100% Completed | 14.4s\n"
     ]
    },
    {
     "name": "stderr",
     "output_type": "stream",
     "text": [
      "/srv/conda/envs/ocb_workshop_2021_cmip6_age/lib/python3.9/site-packages/dask/array/numpy_compat.py:40: RuntimeWarning: invalid value encountered in true_divide\n",
      "  x = np.divide(x1, x2, out)\n",
      "/srv/conda/envs/ocb_workshop_2021_cmip6_age/lib/python3.9/site-packages/cartopy/mpl/geoaxes.py:1702: UserWarning: The input coordinates to pcolormesh are interpreted as cell centers, but are not monotonically increasing or decreasing. This may lead to incorrectly calculated cell edges, in which case, please supply explicit cell edges to pcolormesh.\n",
      "  X, Y, C, shading = self._pcolorargs('pcolormesh', *args,\n"
     ]
    },
    {
     "name": "stdout",
     "output_type": "stream",
     "text": [
      "CESM2.gn.historical.Omon\n",
      "[#####                                   ] | 14% Completed | 13.7s"
     ]
    }
   ],
   "source": [
    "fig, axarr = plt.subplots(\n",
    "    nrows=2, \n",
    "    ncols=2, \n",
    "    subplot_kw={'projection':ccrs.Robinson(200)},\n",
    "    figsize = [10,10],\n",
    ")\n",
    "count = 0\n",
    "\n",
    "target_depth = 1000 # set the depth you are interested in [in m]\n",
    "years = 10 # number of years at the end of the control run to average\n",
    "\n",
    "\n",
    "for (name, ds), ax in zip(ddict_new.items(), axarr.flat):\n",
    "    print(name)\n",
    "    ds = ds.isel(time=slice(-years * 12, None)).mean(['time']).interp(lev=target_depth)\n",
    "    \n",
    "    with ProgressBar():\n",
    "        ds = ds.load()\n",
    "    try:\n",
    "        ds.agessc.plot(infer_intervals=False, ax=ax,x='lon', y='lat', transform=ccrs.PlateCarree(), cmap=cmo.matter, vmin=0, vmax=2500, add_colorbar=True)\n",
    "        ax.coastlines()\n",
    "    except Exception as e:\n",
    "        print(f\"{name} failed with: {e}\")\n",
    "    ax.set_title(ds.attrs['source_id'])\n",
    "    map_util_plot(ax)"
   ]
  },
  {
   "cell_type": "code",
   "execution_count": null,
   "id": "supposed-bradley",
   "metadata": {},
   "outputs": [],
   "source": []
  }
 ],
 "metadata": {
  "kernelspec": {
   "display_name": "Python [conda env:ocb_workshop_2021_cmip6_age]",
   "language": "python",
   "name": "conda-env-ocb_workshop_2021_cmip6_age-py"
  },
  "language_info": {
   "codemirror_mode": {
    "name": "ipython",
    "version": 3
   },
   "file_extension": ".py",
   "mimetype": "text/x-python",
   "name": "python",
   "nbconvert_exporter": "python",
   "pygments_lexer": "ipython3",
   "version": "3.9.4"
  }
 },
 "nbformat": 4,
 "nbformat_minor": 5
}
